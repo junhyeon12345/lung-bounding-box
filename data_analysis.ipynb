{
 "cells": [
  {
   "attachments": {},
   "cell_type": "markdown",
   "metadata": {},
   "source": [
    "# Log \n",
    "\n",
    "* Written by HongYongGi / email : yonggi@tesser.co.kr\n",
    "\n",
    "* Written date : 20230524\n",
    "\n",
    "\n",
    "* Modified by Junhyeon Kang / email: junhyeon@tesser.co.kr\n",
    "\n",
    "* Modified date: 20230526\n",
    "\n",
    "* \n",
    "---\n",
    "\n",
    "# Code description\n",
    "\n",
    "* Read the header file & csv information\n",
    "\n",
    "* \n",
    "\n",
    "\n",
    "---\n",
    "\n",
    "\n",
    "# Code Flow\n",
    "\n",
    "* Load CT data\n",
    "\n",
    "* Tumor coordinate load\n",
    "\n",
    "* Draw the tumor segmentation box \n",
    "\n",
    "* Save the segmentation box\n",
    "\n",
    "---\n",
    "\n",
    "# Package Import"
   ]
  },
  {
   "cell_type": "code",
   "execution_count": 1,
   "metadata": {},
   "outputs": [],
   "source": [
    "# data science\n",
    "import os, glob, shutil\n",
    "import numpy as np\n",
    "from numpy.linalg import inv\n",
    "import matplotlib.pyplot as plt\n",
    "import seaborn as sns\n",
    "import pandas as pd\n",
    "\n",
    "# Medical Image package\n",
    "import nibabel as nib\n",
    "from nibabel.affines import apply_affine\n",
    "import pydicom\n",
    "import skimage.io as io\n",
    "\n",
    "# etc\n",
    "from tqdm import tqdm\n",
    "import ipywidgets as widgets\n",
    "from datetime import date\n"
   ]
  },
  {
   "attachments": {},
   "cell_type": "markdown",
   "metadata": {},
   "source": [
    "---\n",
    "# Utils function"
   ]
  },
  {
   "cell_type": "code",
   "execution_count": 4,
   "metadata": {},
   "outputs": [],
   "source": [
    "def load_nii(file_path):\n",
    "    \"\"\"\n",
    "    load nii file\n",
    "    \n",
    "    Args:\n",
    "        file_path (str): nii file path\n",
    "    Returns : \n",
    "        nii (nibabel.nifti1.Nifti1Image): NIFTI file\n",
    "        affine (numpy.ndarray): affine matrix\n",
    "        header (dict): header information\n",
    "    \n",
    "    \"\"\"\n",
    "    nii = nib.load(file_path)\n",
    "    header = nii.header\n",
    "    affine = nii.affine\n",
    "    nii = nii.get_fdata()\n",
    "    \n",
    "    return nii, affine, header\n",
    "\n",
    "def read_header(path):\n",
    "    \"\"\"\n",
    "    Reads pixel info from header\n",
    "\n",
    "    Args:\n",
    "        path (str): header file path\n",
    "    Returns:\n",
    "        pixel_info (str): pixel info\n",
    "    \"\"\"\n",
    "    header = open(path,\"r\")\n",
    "    while True:\n",
    "        line = header.readline()\n",
    "        print(line)\n",
    "        if \"ElementSpacing = \" in line :\n",
    "            info = line[line.find(\"ElementSpacing = \")+17:line.find('\\n')]\n",
    "            pixel_info = info.split(' ')\n",
    "        \n",
    "        if not line:\n",
    "            break\n",
    "    return pixel_info\n",
    "        \n",
    "    \n",
    "def draw_seg(arr, x_tup, y_tup,z_tup):\n",
    "    \"\"\"\n",
    "    \n",
    "    Args : \n",
    "        arr (array): CT image array\n",
    "        x_tup (tuple): tuple of min and max x coordinates\n",
    "        y_tup (tuple): tuple of min and max y coordinates\n",
    "        z_tup (tuple): tuple of min and max z coordinates\n",
    "        \n",
    "    Returns : \n",
    "        draw_array(array) : Draw CT image with segmentation array\n",
    "    \n",
    "    \"\"\"\n",
    "    \n",
    "    segmentation_array = np.matrix.copy(arr)\n",
    "    \n",
    "    # x1, x2 = int(x_coor - radius), int(x_coor + radius)\n",
    "    # y1, y2 = int(y_coor - radius), int(y_coor + radius)\n",
    "    # z1, z2 = int(z_coor - radius), int(z_coor + radius) # 더 멀리 띄워서 잘 보이게? 지금 상황이면 가장 윗면은 하얀 사각형으로 보일것.\n",
    "    \n",
    "\n",
    "    x1, x2 = x_tup[0], x_tup[1]\n",
    "    y1, y2 = y_tup[0], y_tup[1]\n",
    "    z1, z2 = z_tup[0], z_tup[1]\n",
    "\n",
    "    whitest = arr.max()\n",
    "    \n",
    "    segmentation_array[x1:x2+1, y1, z1:z2+1] = whitest\n",
    "    segmentation_array[x1:x2+1, y2, z1:z2+1] = whitest\n",
    "    segmentation_array[x1, y1:y2+1, z1:z2+1] = whitest\n",
    "    segmentation_array[x2, y1:y2+1, z1:z2+1] = whitest\n",
    "\n",
    "    return segmentation_array\n",
    "    \n",
    "    \n",
    "def read_info(subject_id , data_frame):\n",
    "    \n",
    "    \"\"\"\n",
    "    _summary_\n",
    "    \"\"\"\n",
    "    \n",
    "    x_coord_list = list(data_frame[data_frame['seriesuid'] == subject_id]['coordX'])\n",
    "    y_coord_list = list(data_frame[data_frame['seriesuid'] == subject_id]['coordY'])\n",
    "    z_coord_list = list(data_frame[data_frame['seriesuid'] == subject_id]['coordZ'])\n",
    "    radius_list  = list(data_frame[data_frame['seriesuid'] == subject_id]['diameter_mm'])\n",
    "    \n",
    "    return x_coord_list, y_coord_list, z_coord_list, radius_list"
   ]
  },
  {
   "attachments": {},
   "cell_type": "markdown",
   "metadata": {},
   "source": [
    "# Data Load"
   ]
  },
  {
   "cell_type": "code",
   "execution_count": 5,
   "metadata": {},
   "outputs": [
    {
     "name": "stdout",
     "output_type": "stream",
     "text": [
      "                                              seriesuid      coordX   \n",
      "0     1.3.6.1.4.1.14519.5.2.1.6279.6001.100225287222... -128.699421  \\\n",
      "1     1.3.6.1.4.1.14519.5.2.1.6279.6001.100225287222...  103.783651   \n",
      "2     1.3.6.1.4.1.14519.5.2.1.6279.6001.100398138793...   69.639017   \n",
      "3     1.3.6.1.4.1.14519.5.2.1.6279.6001.100621383016...  -24.013824   \n",
      "4     1.3.6.1.4.1.14519.5.2.1.6279.6001.100621383016...    2.441547   \n",
      "...                                                 ...         ...   \n",
      "1181  1.3.6.1.4.1.14519.5.2.1.6279.6001.994459772950... -160.856298   \n",
      "1182  1.3.6.1.4.1.14519.5.2.1.6279.6001.994459772950... -102.189570   \n",
      "1183  1.3.6.1.4.1.14519.5.2.1.6279.6001.994459772950...  -37.535409   \n",
      "1184  1.3.6.1.4.1.14519.5.2.1.6279.6001.997611074084...   43.196112   \n",
      "1185  1.3.6.1.4.1.14519.5.2.1.6279.6001.997611074084...  -21.958478   \n",
      "\n",
      "          coordY      coordZ  diameter_mm  \n",
      "0    -175.319272 -298.387506     5.651471  \n",
      "1    -211.925149 -227.121250     4.224708  \n",
      "2    -140.944586  876.374496     5.786348  \n",
      "3     192.102405 -391.081276     8.143262  \n",
      "4     172.464881 -405.493732    18.545150  \n",
      "...          ...         ...          ...  \n",
      "1181  -28.560349 -269.168728     5.053694  \n",
      "1182  -73.865766 -220.536241     4.556101  \n",
      "1183   64.041949 -127.687101     4.357368  \n",
      "1184   74.438486 -200.523314     4.277203  \n",
      "1185   33.486096 -155.292026    23.802913  \n",
      "\n",
      "[1186 rows x 5 columns]\n"
     ]
    }
   ],
   "source": [
    "data_dir = '/mnt/tesser_nas2/lg_vm_dicom_LUNA16/lg_tm_LUNA16/imagesTr/'\n",
    "csv_path = '/mnt/tesser_nas2/lg_vm_dicom_LUNA16/annotations.csv'\n",
    "\n",
    "header_dir = '/mnt/tesser_nas2/lg_vm_dicom_LUNA16/LUNA16_CT/'\n",
    "nii_file_paths = glob.glob(data_dir + '*.nii.gz')\n",
    "nii_file_paths.sort()\n",
    "\n",
    "meta_info = pd.read_csv(csv_path)\n",
    "print(meta_info)\n"
   ]
  },
  {
   "cell_type": "code",
   "execution_count": 7,
   "metadata": {},
   "outputs": [
    {
     "ename": "IndentationError",
     "evalue": "unindent does not match any outer indentation level (<tokenize>, line 9)",
     "output_type": "error",
     "traceback": [
      "\u001b[0;36m  File \u001b[0;32m<tokenize>:9\u001b[0;36m\u001b[0m\n\u001b[0;31m    file_id = os.path.basename(nii_file_paths[idx])[:-7]\u001b[0m\n\u001b[0m    ^\u001b[0m\n\u001b[0;31mIndentationError\u001b[0m\u001b[0;31m:\u001b[0m unindent does not match any outer indentation level\n"
     ]
    }
   ],
   "source": [
    "def printer(idx):\n",
    "     \"\"\"\n",
    "    Args : \n",
    "        idx (int) : index of nii_file_paths\n",
    "        \n",
    "    Returns : \n",
    "        Saves bbox images (.nii.gz) in LUNA16_CT_bbox\n",
    "    \"\"\"\n",
    "    file_id = os.path.basename(nii_file_paths[idx])[:-7]\n",
    "    header_path = os.path.join(header_dir, file_id+'.mhd')\n",
    "    header = open(header_path,\"r\")\n",
    "        \n",
    "    x_coord_list, y_coord_list, z_coord_list, radius_list = read_info(file_id, meta_info)\n",
    "\n",
    "    world_coord_list = [] # list of tuples (min, max)\n",
    "    for ind in range(len(x_coord_list)):\n",
    "        coord_list = []\n",
    "\n",
    "        tup_x = (x_coord_list[ind] - radius_list[ind], x_coord_list[ind] + radius_list[ind])\n",
    "        tup_y = (y_coord_list[ind] - radius_list[ind], y_coord_list[ind] + radius_list[ind])\n",
    "        tup_z = (z_coord_list[ind] - radius_list[ind], z_coord_list[ind] + radius_list[ind])\n",
    "        coord_list.extend([tup_x, tup_y, tup_z])\n",
    "        world_coord_list.append(coord_list)\n",
    "\n",
    "    nii, affine, header = load_nii(nii_file_paths[idx])\n",
    "\n",
    "    affine_inv = np.linalg.inv(affine)\n",
    "\n",
    "    voxel_coord = []\n",
    "    for ind in range(len(x_coord_list)):\n",
    "        coord_list = world_coord_list[ind]\n",
    "        voxel_xmin, voxel_ymin, voxel_zmin = apply_affine(affine_inv, [-coord_list[0][0], -coord_list[1][0], coord_list[2][0]]) # draw_seg와 함께 real world coord의 박스 경계를 먼저 구해야 한다.\n",
    "        voxel_xmax, voxel_ymax, voxel_zmax = apply_affine(affine_inv, [-coord_list[0][1], -coord_list[1][1], coord_list[2][1]])\n",
    "        \n",
    "        voxel_xmin = int(voxel_xmin)\n",
    "        voxel_xmax = int(voxel_xmax)\n",
    "        voxel_ymin = int(voxel_ymin)\n",
    "        voxel_ymax = int(voxel_ymax)\n",
    "        voxel_zmin = int(voxel_zmin)\n",
    "        voxel_zmax = int(voxel_zmax)\n",
    "\n",
    "        new_coords = [(voxel_xmin, voxel_xmax), (voxel_ymin, voxel_ymax), (voxel_zmin, voxel_zmax)]\n",
    "        voxel_coord.append(new_coords)\n",
    "\n",
    "    seg = nii\n",
    "    for ind in range(len(voxel_coord)):\n",
    "        this_voxel = voxel_coord[ind]\n",
    "        seg = draw_seg(seg, this_voxel[0], this_voxel[1], this_voxel[2])\n",
    "\n",
    "    ni_img = nib.Nifti1Image(seg, affine=affine)\n",
    "    nib.save(ni_img, os.path.join(\"/mnt/tesser_nas2/lg_vm_dicom_LUNA16/LUNA16_CT_bbox/\", file_id + \"_bbox.nii.gz\"))\n",
    "\n",
    "\n",
    "# 모든 파일에 대해 실행\n",
    "\n",
    "# for ind in range( 0, 885):\n",
    "#     printer(ind)\n",
    "\n",
    "\n",
    "\n",
    "    "
   ]
  },
  {
   "cell_type": "code",
   "execution_count": null,
   "metadata": {},
   "outputs": [
    {
     "name": "stdout",
     "output_type": "stream",
     "text": [
      "True\n",
      "1\n",
      "Tesla P40\n"
     ]
    }
   ],
   "source": [
    "# file_id = os.path.basename(nii_file_paths[idx])[:-7]\n",
    "# header_path = os.path.join(header_dir, file_id+'.mhd')\n",
    "# header = open(header_path,\"r\")\n",
    "\n",
    "# file_id\n"
   ]
  },
  {
   "cell_type": "code",
   "execution_count": null,
   "metadata": {},
   "outputs": [
    {
     "name": "stdout",
     "output_type": "stream",
     "text": [
      "ObjectType = Image\n",
      "\n",
      "NDims = 3\n",
      "\n",
      "BinaryData = True\n",
      "\n",
      "BinaryDataByteOrderMSB = False\n",
      "\n",
      "CompressedData = False\n",
      "\n",
      "TransformMatrix = 1 0 0 0 1 0 0 0 1\n",
      "\n",
      "Offset = -208.800003 -200 -376.75\n",
      "\n",
      "CenterOfRotation = 0 0 0\n",
      "\n",
      "AnatomicalOrientation = RAI\n",
      "\n",
      "ElementSpacing = 0.78125 0.78125 2.5\n",
      "\n",
      "DimSize = 512 512 131\n",
      "\n",
      "ElementType = MET_SHORT\n",
      "\n",
      "ElementDataFile = 1.3.6.1.4.1.14519.5.2.1.6279.6001.128881800399702510818644205032.raw\n",
      "\n",
      "\n"
     ]
    },
    {
     "data": {
      "text/plain": [
       "['0.78125', '0.78125', '2.5']"
      ]
     },
     "execution_count": 97,
     "metadata": {},
     "output_type": "execute_result"
    }
   ],
   "source": [
    "# Pixel_information = read_header(header_path)\n",
    "# Pixel_information"
   ]
  },
  {
   "cell_type": "code",
   "execution_count": null,
   "metadata": {},
   "outputs": [],
   "source": [
    "# x_coord_list, y_coord_list, z_coord_list, radius_list = read_info(file_id, meta_info)\n"
   ]
  },
  {
   "cell_type": "code",
   "execution_count": null,
   "metadata": {},
   "outputs": [
    {
     "data": {
      "text/plain": [
       "[[(-112.17775827, -87.53928547000001),\n",
       "  (25.114814619999997, 49.75328742),\n",
       "  (-182.7758452, -158.1373724)],\n",
       " [(-91.69227878, -65.64199404),\n",
       "  (53.39701658, 79.44730132),\n",
       "  (-181.89682077, -155.84653603)]]"
      ]
     },
     "execution_count": 103,
     "metadata": {},
     "output_type": "execute_result"
    }
   ],
   "source": [
    "# world_coord_list = [] # list of tuples (min, max)\n",
    "# for ind in range(len(x_coord_list)):\n",
    "#     coord_list = []\n",
    "\n",
    "#     tup_x = (x_coord_list[ind] - radius_list[ind], x_coord_list[ind] + radius_list[ind])\n",
    "#     tup_y = (y_coord_list[ind] - radius_list[ind], y_coord_list[ind] + radius_list[ind])\n",
    "#     tup_z = (z_coord_list[ind] - radius_list[ind], z_coord_list[ind] + radius_list[ind])\n",
    "#     coord_list.extend([tup_x, tup_y, tup_z])\n",
    "#     world_coord_list.append(coord_list)\n",
    "\n",
    "# world_coord_list\n",
    "\n"
   ]
  },
  {
   "attachments": {},
   "cell_type": "markdown",
   "metadata": {},
   "source": [
    "real world coord가 x,y 좌표에 -가 붙어서 output.\n",
    "\n",
    "luna16에서 주는 real world coord에는 -를 붙인 후, affine으로 voxel를 계산하면 된다.\n",
    "\n",
    "또는, luna16의 real world coord에서 offset을 뺀 후, pixel spacing으로 나눈다."
   ]
  }
 ],
 "metadata": {
  "kernelspec": {
   "display_name": "base",
   "language": "python",
   "name": "python3"
  },
  "language_info": {
   "codemirror_mode": {
    "name": "ipython",
    "version": 3
   },
   "file_extension": ".py",
   "mimetype": "text/x-python",
   "name": "python",
   "nbconvert_exporter": "python",
   "pygments_lexer": "ipython3",
   "version": "3.11.3"
  },
  "orig_nbformat": 4
 },
 "nbformat": 4,
 "nbformat_minor": 2
}
